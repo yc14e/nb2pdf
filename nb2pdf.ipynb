{
 "cells": [
  {
   "cell_type": "code",
   "execution_count": 13,
   "metadata": {},
   "outputs": [
    {
     "data": {
      "application/vnd.jupyter.widget-view+json": {
       "model_id": "153a0bc113c3435e8652761e9235f2e5",
       "version_major": 2,
       "version_minor": 0
      },
      "text/plain": [
       "HBox(children=(VBox(children=(HTML(value='<h1>Notebook to PDF Converter</h1>'), HBox(children=(HTML(value='<h2…"
      ]
     },
     "metadata": {},
     "output_type": "display_data"
    }
   ],
   "source": [
    "from ipywidgets import FileUpload, Button, Output, HBox, VBox, Layout\n",
    "from ipywidgets import HTML as htmlWidget\n",
    "from IPython.display import display, clear_output, Image, HTML\n",
    "import subprocess, os, base64\n",
    "import markdown\n",
    "\n",
    "\n",
    "output = Output()\n",
    "fileInput = FileUpload()\n",
    "convertButton = Button(description='Convert')\n",
    "loadingGifPath = 'https://upload.wikimedia.org/wikipedia/commons/a/a3/Lightness_rotate_36f_cw.gif'\n",
    "\n",
    "def convert(b):\n",
    "    with output:\n",
    "        clear_output()\n",
    "        display(Image(url=loadingGifPath, width=25, height=25))\n",
    "        try:\n",
    "            nbName = list(fileInput.value.keys())[0]\n",
    "        except IndexError:\n",
    "            clear_output()\n",
    "            print()\n",
    "            display(HTML('<p style=\"color:red\">Have you uploaded a notebook file yet? </p>'))\n",
    "            return \n",
    "        pdfName = nbName.replace('ipynb', 'pdf')\n",
    "        with open(nbName, 'w+b') as f:\n",
    "            f.write(fileInput.data[0])\n",
    "        proc = subprocess.run(['jupyter', 'nbconvert', nbName, '--to', 'pdf'])\n",
    "        clear_output()\n",
    "        if proc.returncode == 1:\n",
    "            print()\n",
    "            display(HTML('<p style=\"color:red\">LaTeX compiling error! </p>'))\n",
    "        else:\n",
    "            with open(pdfName, \"rb\") as f:\n",
    "                data = f.read()\n",
    "                b64 = base64.b64encode(data)\n",
    "                payload = b64.decode()\n",
    "            display(HTML(f'''<a download=\"{pdfName}\" href=\"data:text/csv;base64,{payload}\" target=\"_blank\">  \n",
    "                            <button class=\"p-Widget jupyter-widgets jupyter-button widget-button\"> Download PDF </button>\n",
    "                        </a>'''))\n",
    "\n",
    "convertButton.on_click(convert)\n",
    "\n",
    "# display(fileInput, convertButton, output) \n",
    "\n",
    "\n",
    "text = '''\n",
    "## 3 Easy Steps: \n",
    "1. Upload your notebook (.ipynb) file. You may only convert one notebook at a time \\n\n",
    "* Hit Convert \\n\n",
    "* A Download button will show up when your PDF file is ready. Enjoy!\n",
    "'''\n",
    "\n",
    "footer = '''<br><br/><p>Powered by&emsp;<p/>\n",
    "<img src=\"https://raw.githubusercontent.com/beginnerSC/misc/master/docs/source/ds/poweredby.png\" alt=\"Binder, Jupyter, Voilà\" width=\"250\"/>\n",
    "'''\n",
    "\n",
    "box_layout = Layout(display='flex',\n",
    "                flex_flow='column',\n",
    "                align_items='center',\n",
    "                width='100%')\n",
    "HBox([\n",
    "    VBox([\n",
    "        htmlWidget(markdown.markdown('# Notebook to PDF Converter')), \n",
    "        HBox([htmlWidget(markdown.markdown(text)), htmlWidget('<p>&emsp;&emsp;&emsp;&emsp;&emsp;&emsp;&emsp;&emsp;<p/>'), \n",
    "            VBox([htmlWidget('<br><br/>'), fileInput, convertButton, output])]), \n",
    "        htmlWidget(markdown.markdown(footer))\n",
    "    ])\n",
    "], layout=box_layout)\n"
   ]
  }
 ],
 "metadata": {
  "kernelspec": {
   "display_name": "Python 3",
   "language": "python",
   "name": "python3"
  },
  "language_info": {
   "codemirror_mode": {
    "name": "ipython",
    "version": 3
   },
   "file_extension": ".py",
   "mimetype": "text/x-python",
   "name": "python",
   "nbconvert_exporter": "python",
   "pygments_lexer": "ipython3",
   "version": "3.7.8"
  }
 },
 "nbformat": 4,
 "nbformat_minor": 4
}
